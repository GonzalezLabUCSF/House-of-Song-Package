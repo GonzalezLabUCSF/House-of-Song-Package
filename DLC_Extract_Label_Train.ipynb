{
 "cells": [
  {
   "cell_type": "markdown",
   "metadata": {},
   "source": [
    "# Deeplabcut auto run\n",
    "##### This version is for DLC version DLC 3.0.0rc8\n",
    "Import libraries and set constants, run in the DLC_GPU environment through conda.\n",
    "RUN THIS ONLY AFTER RECORDINGS ARE DONE.\n",
    "If you already have extracted, labeled, and trained a DLC project then its possible to continue training it in newer versions of DLC, add new videos, extracted images, and different training ratios.\n",
    "Follow below"
   ]
  },
  {
   "cell_type": "markdown",
   "metadata": {},
   "source": [
    "Rules:\n",
    "1. Save models+snapshots, not projects, to dropbox to analyze of videos and train older models on same number of body parts and same network architecture.\n",
    "2. Save whole projects on external drive or locally.\n",
    "3. All files, when saved, should follow this format Date-Social_Group-File_Manipulaitons-View.extension. Try to implement by 6/1/25\n",
    "4. All videos for extracting frames and checking if the model works or not should be the Shift_Montage_Rez_Aud_10x videos."
   ]
  },
  {
   "cell_type": "markdown",
   "metadata": {},
   "source": [
    "Set the correct location of your config files below."
   ]
  },
  {
   "cell_type": "code",
   "execution_count": 2,
   "metadata": {},
   "outputs": [
    {
     "name": "stdout",
     "output_type": "stream",
     "text": [
      "Loading DLC 3.0.0rc8...\n"
     ]
    }
   ],
   "source": [
    "import os, deeplabcut, glob\n",
    "import numpy as NP\n",
    "import subprocess, time\n",
    "deeplabcut.verbosity = \"DEBUG\"\n",
    "Bird_Rec_Drive=\"A:/\" #Where the bird recordings are\n",
    "Config_File_F_View=\"F_View_V3-Gerrik-2025-06-06\\config.yaml\" #Location of model used just for analysis.\n",
    "Config_File_M1_View=\"M1_View_V2-Gerrik-2025-03-14\\config.yaml\"\n",
    "Config_File_M2_View=\"M2_View_V2-Gerrik-2025-03-27\\config.yaml\"\n"
   ]
  },
  {
   "cell_type": "markdown",
   "metadata": {},
   "source": [
    "In order for videos to have their frames extracted, they must be added to the project config file. Below code does that.\n",
    "- F view goes to DLC_ListF\n",
    "- M1 view goes to DLC_ListM1\n",
    "- M2 view goes to DLC_ListM2\n",
    "\n",
    "Unfortunately, after adding the videos, you have to manually go and open the gui by opening anaconda prompt, loading the config.yaml file for the project, select the most recent vidoes, and hit extract. Then you have to use the GUI again to label the videos. Keep the below code in case a new update fixes the issue of DLC not being able to extract the frames in code mode."
   ]
  },
  {
   "cell_type": "code",
   "execution_count": null,
   "metadata": {},
   "outputs": [
    {
     "name": "stdout",
     "output_type": "stream",
     "text": [
      "$RECYCLE.BIN\n",
      "2025_05_19_21_08-Test\n",
      "Arduino\n",
      "Bad_recordings\n",
      "Calls\n",
      "Cohorts.txt\n",
      "FView\n",
      "F_8UWL073\n",
      "2025_05_26_11_50-F_8UWL073_M1_W13_M2_R108\n",
      "New videos were added to the project! Use the function 'extract_frames' to select frames for labeling.\n",
      "Config file read successfully.\n"
     ]
    },
    {
     "ename": "ValueError",
     "evalue": "Video path \"C:\\Users\\ucsfg\\Desktop\\F_View_V3-Gerrik-2025-06-06\\videos\\2024_07_31_09_51-F_R166_M1_R15_M2_R38shifted.mp4\" does not point to a file.",
     "output_type": "error",
     "traceback": [
      "\u001b[1;31m---------------------------------------------------------------------------\u001b[0m",
      "\u001b[1;31mValueError\u001b[0m                                Traceback (most recent call last)",
      "Cell \u001b[1;32mIn[3], line 25\u001b[0m\n\u001b[0;32m     23\u001b[0m \u001b[38;5;28;01mif\u001b[39;00m (([]\u001b[38;5;241m!=\u001b[39mMontage_F) \u001b[38;5;129;01mand\u001b[39;00m []\u001b[38;5;241m==\u001b[39mF_H5):\n\u001b[0;32m     24\u001b[0m     deeplabcut\u001b[38;5;241m.\u001b[39madd_new_videos(Config_File_F_View, [Montage_F[\u001b[38;5;241m-\u001b[39m\u001b[38;5;241m1\u001b[39m]], copy_videos\u001b[38;5;241m=\u001b[39m\u001b[38;5;28;01mTrue\u001b[39;00m)\n\u001b[1;32m---> 25\u001b[0m     \u001b[43mdeeplabcut\u001b[49m\u001b[38;5;241;43m.\u001b[39;49m\u001b[43mextract_frames\u001b[49m\u001b[43m(\u001b[49m\n\u001b[0;32m     26\u001b[0m \u001b[43m    \u001b[49m\u001b[43mConfig_File_F_View\u001b[49m\u001b[43m,\u001b[49m\n\u001b[0;32m     27\u001b[0m \u001b[43m    \u001b[49m\u001b[43mmode\u001b[49m\u001b[38;5;241;43m=\u001b[39;49m\u001b[38;5;124;43m\"\u001b[39;49m\u001b[38;5;124;43mmanual\u001b[39;49m\u001b[38;5;124;43m\"\u001b[39;49m\u001b[43m,\u001b[49m\n\u001b[0;32m     28\u001b[0m \u001b[43m    \u001b[49m\u001b[43malgo\u001b[49m\u001b[38;5;241;43m=\u001b[39;49m\u001b[38;5;124;43m\"\u001b[39;49m\u001b[38;5;124;43mkmeans\u001b[39;49m\u001b[38;5;124;43m\"\u001b[39;49m\u001b[43m,\u001b[49m\n\u001b[0;32m     29\u001b[0m \u001b[43m    \u001b[49m\u001b[43mcrop\u001b[49m\u001b[38;5;241;43m=\u001b[39;49m\u001b[38;5;28;43;01mFalse\u001b[39;49;00m\u001b[43m,\u001b[49m\n\u001b[0;32m     30\u001b[0m \u001b[43m    \u001b[49m\u001b[43muserfeedback\u001b[49m\u001b[38;5;241;43m=\u001b[39;49m\u001b[38;5;28;43;01mTrue\u001b[39;49;00m\u001b[43m)\u001b[49m\n\u001b[0;32m     31\u001b[0m     DLC_ListF\u001b[38;5;241m.\u001b[39mappend(Montage_F)\n\u001b[0;32m     32\u001b[0m \u001b[38;5;28;01mif\u001b[39;00m (([]\u001b[38;5;241m!=\u001b[39mMontage_M1) \u001b[38;5;129;01mand\u001b[39;00m []\u001b[38;5;241m==\u001b[39mM1_H5):\n",
      "File \u001b[1;32mc:\\ProgramData\\anaconda3\\envs\\DEEPLABCUT\\lib\\site-packages\\deeplabcut\\generate_training_dataset\\frame_extraction.py:277\u001b[0m, in \u001b[0;36mextract_frames\u001b[1;34m(config, mode, algo, crop, userfeedback, cluster_step, cluster_resizewidth, cluster_color, opencv, slider_width, config3d, extracted_cam, videos_list)\u001b[0m\n\u001b[0;32m    274\u001b[0m \u001b[38;5;28;01mif\u001b[39;00m mode \u001b[38;5;241m==\u001b[39m \u001b[38;5;124m\"\u001b[39m\u001b[38;5;124mmanual\u001b[39m\u001b[38;5;124m\"\u001b[39m:\n\u001b[0;32m    275\u001b[0m     \u001b[38;5;28;01mfrom\u001b[39;00m\u001b[38;5;250m \u001b[39m\u001b[38;5;21;01mdeeplabcut\u001b[39;00m\u001b[38;5;21;01m.\u001b[39;00m\u001b[38;5;21;01mgui\u001b[39;00m\u001b[38;5;21;01m.\u001b[39;00m\u001b[38;5;21;01mwidgets\u001b[39;00m\u001b[38;5;250m \u001b[39m\u001b[38;5;28;01mimport\u001b[39;00m launch_napari\n\u001b[1;32m--> 277\u001b[0m     _ \u001b[38;5;241m=\u001b[39m \u001b[43mlaunch_napari\u001b[49m\u001b[43m(\u001b[49m\u001b[43mvideos\u001b[49m\u001b[43m[\u001b[49m\u001b[38;5;241;43m0\u001b[39;49m\u001b[43m]\u001b[49m\u001b[43m)\u001b[49m\n\u001b[0;32m    278\u001b[0m     \u001b[38;5;28;01mreturn\u001b[39;00m\n\u001b[0;32m    280\u001b[0m \u001b[38;5;28;01melif\u001b[39;00m mode \u001b[38;5;241m==\u001b[39m \u001b[38;5;124m\"\u001b[39m\u001b[38;5;124mautomatic\u001b[39m\u001b[38;5;124m\"\u001b[39m:\n",
      "File \u001b[1;32mc:\\ProgramData\\anaconda3\\envs\\DEEPLABCUT\\lib\\site-packages\\deeplabcut\\gui\\widgets.py:46\u001b[0m, in \u001b[0;36mlaunch_napari\u001b[1;34m(files, plugin, stack)\u001b[0m\n\u001b[0;32m     44\u001b[0m             \u001b[38;5;28;01mbreak\u001b[39;00m\n\u001b[0;32m     45\u001b[0m \u001b[38;5;28;01mif\u001b[39;00m files \u001b[38;5;129;01mis\u001b[39;00m \u001b[38;5;129;01mnot\u001b[39;00m \u001b[38;5;28;01mNone\u001b[39;00m:\n\u001b[1;32m---> 46\u001b[0m     \u001b[43mviewer\u001b[49m\u001b[38;5;241;43m.\u001b[39;49m\u001b[43mopen\u001b[49m\u001b[43m(\u001b[49m\u001b[43mfiles\u001b[49m\u001b[43m,\u001b[49m\u001b[43m \u001b[49m\u001b[43mplugin\u001b[49m\u001b[38;5;241;43m=\u001b[39;49m\u001b[43mplugin\u001b[49m\u001b[43m,\u001b[49m\u001b[43m \u001b[49m\u001b[43mstack\u001b[49m\u001b[38;5;241;43m=\u001b[39;49m\u001b[43mstack\u001b[49m\u001b[43m)\u001b[49m\n\u001b[0;32m     47\u001b[0m \u001b[38;5;28;01mreturn\u001b[39;00m viewer\n",
      "File \u001b[1;32mc:\\ProgramData\\anaconda3\\envs\\DEEPLABCUT\\lib\\site-packages\\napari\\components\\viewer_model.py:1092\u001b[0m, in \u001b[0;36mViewerModel.open\u001b[1;34m(self, path, stack, plugin, layer_type, **kwargs)\u001b[0m\n\u001b[0;32m   1089\u001b[0m _path \u001b[38;5;241m=\u001b[39m [_path] \u001b[38;5;28;01mif\u001b[39;00m \u001b[38;5;129;01mnot\u001b[39;00m \u001b[38;5;28misinstance\u001b[39m(_path, \u001b[38;5;28mlist\u001b[39m) \u001b[38;5;28;01melse\u001b[39;00m _path\n\u001b[0;32m   1090\u001b[0m \u001b[38;5;28;01mif\u001b[39;00m plugin:\n\u001b[0;32m   1091\u001b[0m     added\u001b[38;5;241m.\u001b[39mextend(\n\u001b[1;32m-> 1092\u001b[0m         \u001b[38;5;28;43mself\u001b[39;49m\u001b[38;5;241;43m.\u001b[39;49m\u001b[43m_add_layers_with_plugins\u001b[49m\u001b[43m(\u001b[49m\n\u001b[0;32m   1093\u001b[0m \u001b[43m            \u001b[49m\u001b[43m_path\u001b[49m\u001b[43m,\u001b[49m\n\u001b[0;32m   1094\u001b[0m \u001b[43m            \u001b[49m\u001b[43mkwargs\u001b[49m\u001b[38;5;241;43m=\u001b[39;49m\u001b[43mkwargs\u001b[49m\u001b[43m,\u001b[49m\n\u001b[0;32m   1095\u001b[0m \u001b[43m            \u001b[49m\u001b[43mplugin\u001b[49m\u001b[38;5;241;43m=\u001b[39;49m\u001b[43mplugin\u001b[49m\u001b[43m,\u001b[49m\n\u001b[0;32m   1096\u001b[0m \u001b[43m            \u001b[49m\u001b[43mlayer_type\u001b[49m\u001b[38;5;241;43m=\u001b[39;49m\u001b[43mlayer_type\u001b[49m\u001b[43m,\u001b[49m\n\u001b[0;32m   1097\u001b[0m \u001b[43m            \u001b[49m\u001b[43mstack\u001b[49m\u001b[38;5;241;43m=\u001b[39;49m\u001b[43m_stack\u001b[49m\u001b[43m,\u001b[49m\n\u001b[0;32m   1098\u001b[0m \u001b[43m        \u001b[49m\u001b[43m)\u001b[49m\n\u001b[0;32m   1099\u001b[0m     )\n\u001b[0;32m   1100\u001b[0m \u001b[38;5;66;03m# no plugin choice was made\u001b[39;00m\n\u001b[0;32m   1101\u001b[0m \u001b[38;5;28;01melse\u001b[39;00m:\n\u001b[0;32m   1102\u001b[0m     layers \u001b[38;5;241m=\u001b[39m \u001b[38;5;28mself\u001b[39m\u001b[38;5;241m.\u001b[39m_open_or_raise_error(\n\u001b[0;32m   1103\u001b[0m         _path, kwargs, layer_type, _stack\n\u001b[0;32m   1104\u001b[0m     )\n",
      "File \u001b[1;32mc:\\ProgramData\\anaconda3\\envs\\DEEPLABCUT\\lib\\site-packages\\napari\\components\\viewer_model.py:1292\u001b[0m, in \u001b[0;36mViewerModel._add_layers_with_plugins\u001b[1;34m(self, paths, stack, kwargs, plugin, layer_type)\u001b[0m\n\u001b[0;32m   1290\u001b[0m \u001b[38;5;28;01melse\u001b[39;00m:\n\u001b[0;32m   1291\u001b[0m     \u001b[38;5;28;01massert\u001b[39;00m \u001b[38;5;28mlen\u001b[39m(paths) \u001b[38;5;241m==\u001b[39m \u001b[38;5;241m1\u001b[39m\n\u001b[1;32m-> 1292\u001b[0m     layer_data, hookimpl \u001b[38;5;241m=\u001b[39m \u001b[43mread_data_with_plugins\u001b[49m\u001b[43m(\u001b[49m\n\u001b[0;32m   1293\u001b[0m \u001b[43m        \u001b[49m\u001b[43mpaths\u001b[49m\u001b[43m,\u001b[49m\u001b[43m \u001b[49m\u001b[43mplugin\u001b[49m\u001b[38;5;241;43m=\u001b[39;49m\u001b[43mplugin\u001b[49m\u001b[43m,\u001b[49m\u001b[43m \u001b[49m\u001b[43mstack\u001b[49m\u001b[38;5;241;43m=\u001b[39;49m\u001b[43mstack\u001b[49m\n\u001b[0;32m   1294\u001b[0m \u001b[43m    \u001b[49m\u001b[43m)\u001b[49m\n\u001b[0;32m   1296\u001b[0m \u001b[38;5;66;03m# glean layer names from filename. These will be used as *fallback*\u001b[39;00m\n\u001b[0;32m   1297\u001b[0m \u001b[38;5;66;03m# names, if the plugin does not return a name kwarg in their meta dict.\u001b[39;00m\n\u001b[0;32m   1298\u001b[0m filenames \u001b[38;5;241m=\u001b[39m []\n",
      "File \u001b[1;32mc:\\ProgramData\\anaconda3\\envs\\DEEPLABCUT\\lib\\site-packages\\napari\\plugins\\io.py:77\u001b[0m, in \u001b[0;36mread_data_with_plugins\u001b[1;34m(paths, plugin, stack)\u001b[0m\n\u001b[0;32m     74\u001b[0m     \u001b[38;5;28;01massert\u001b[39;00m \u001b[38;5;28mlen\u001b[39m(paths) \u001b[38;5;241m==\u001b[39m \u001b[38;5;241m1\u001b[39m\n\u001b[0;32m     75\u001b[0m hookimpl: Optional[HookImplementation]\n\u001b[1;32m---> 77\u001b[0m res \u001b[38;5;241m=\u001b[39m \u001b[43m_npe2\u001b[49m\u001b[38;5;241;43m.\u001b[39;49m\u001b[43mread\u001b[49m\u001b[43m(\u001b[49m\u001b[43mpaths\u001b[49m\u001b[43m,\u001b[49m\u001b[43m \u001b[49m\u001b[43mplugin\u001b[49m\u001b[43m,\u001b[49m\u001b[43m \u001b[49m\u001b[43mstack\u001b[49m\u001b[38;5;241;43m=\u001b[39;49m\u001b[43mstack\u001b[49m\u001b[43m)\u001b[49m\n\u001b[0;32m     78\u001b[0m \u001b[38;5;28;01mif\u001b[39;00m res \u001b[38;5;129;01mis\u001b[39;00m \u001b[38;5;129;01mnot\u001b[39;00m \u001b[38;5;28;01mNone\u001b[39;00m:\n\u001b[0;32m     79\u001b[0m     _ld, hookimpl \u001b[38;5;241m=\u001b[39m res\n",
      "File \u001b[1;32mc:\\ProgramData\\anaconda3\\envs\\DEEPLABCUT\\lib\\site-packages\\napari\\plugins\\_npe2.py:63\u001b[0m, in \u001b[0;36mread\u001b[1;34m(paths, plugin, stack)\u001b[0m\n\u001b[0;32m     61\u001b[0m     npe1_path \u001b[38;5;241m=\u001b[39m paths[\u001b[38;5;241m0\u001b[39m]\n\u001b[0;32m     62\u001b[0m \u001b[38;5;28;01mtry\u001b[39;00m:\n\u001b[1;32m---> 63\u001b[0m     layer_data, reader \u001b[38;5;241m=\u001b[39m \u001b[43mio_utils\u001b[49m\u001b[38;5;241;43m.\u001b[39;49m\u001b[43mread_get_reader\u001b[49m\u001b[43m(\u001b[49m\n\u001b[0;32m     64\u001b[0m \u001b[43m        \u001b[49m\u001b[43mnpe1_path\u001b[49m\u001b[43m,\u001b[49m\u001b[43m \u001b[49m\u001b[43mplugin_name\u001b[49m\u001b[38;5;241;43m=\u001b[39;49m\u001b[43mplugin\u001b[49m\n\u001b[0;32m     65\u001b[0m \u001b[43m    \u001b[49m\u001b[43m)\u001b[49m\n\u001b[0;32m     66\u001b[0m \u001b[38;5;28;01mexcept\u001b[39;00m \u001b[38;5;167;01mValueError\u001b[39;00m \u001b[38;5;28;01mas\u001b[39;00m e:\n\u001b[0;32m     67\u001b[0m     \u001b[38;5;66;03m# plugin wasn't passed and no reader was found\u001b[39;00m\n\u001b[0;32m     68\u001b[0m     \u001b[38;5;28;01mif\u001b[39;00m \u001b[38;5;124m'\u001b[39m\u001b[38;5;124mNo readers returned data\u001b[39m\u001b[38;5;124m'\u001b[39m \u001b[38;5;129;01mnot\u001b[39;00m \u001b[38;5;129;01min\u001b[39;00m \u001b[38;5;28mstr\u001b[39m(e):\n",
      "File \u001b[1;32mc:\\ProgramData\\anaconda3\\envs\\DEEPLABCUT\\lib\\site-packages\\npe2\\io_utils.py:66\u001b[0m, in \u001b[0;36mread_get_reader\u001b[1;34m(path, plugin_name, stack)\u001b[0m\n\u001b[0;32m     62\u001b[0m \u001b[38;5;28;01mif\u001b[39;00m stack \u001b[38;5;129;01mis\u001b[39;00m \u001b[38;5;28;01mNone\u001b[39;00m:\n\u001b[0;32m     63\u001b[0m     \u001b[38;5;66;03m# \"npe1\" old path\u001b[39;00m\n\u001b[0;32m     64\u001b[0m     \u001b[38;5;66;03m# Napari 0.4.15 and older, hopefully we can drop this and make stack mandatory\u001b[39;00m\n\u001b[0;32m     65\u001b[0m     new_path, new_stack \u001b[38;5;241m=\u001b[39m v1_to_v2(path)\n\u001b[1;32m---> 66\u001b[0m     \u001b[38;5;28;01mreturn\u001b[39;00m \u001b[43m_read\u001b[49m\u001b[43m(\u001b[49m\n\u001b[0;32m     67\u001b[0m \u001b[43m        \u001b[49m\u001b[43mnew_path\u001b[49m\u001b[43m,\u001b[49m\u001b[43m \u001b[49m\u001b[43mplugin_name\u001b[49m\u001b[38;5;241;43m=\u001b[39;49m\u001b[43mplugin_name\u001b[49m\u001b[43m,\u001b[49m\u001b[43m \u001b[49m\u001b[43mreturn_reader\u001b[49m\u001b[38;5;241;43m=\u001b[39;49m\u001b[38;5;28;43;01mTrue\u001b[39;49;00m\u001b[43m,\u001b[49m\u001b[43m \u001b[49m\u001b[43mstack\u001b[49m\u001b[38;5;241;43m=\u001b[39;49m\u001b[43mnew_stack\u001b[49m\n\u001b[0;32m     68\u001b[0m \u001b[43m    \u001b[49m\u001b[43m)\u001b[49m\n\u001b[0;32m     69\u001b[0m \u001b[38;5;28;01melse\u001b[39;00m:\n\u001b[0;32m     70\u001b[0m     \u001b[38;5;28;01massert\u001b[39;00m \u001b[38;5;28misinstance\u001b[39m(path, \u001b[38;5;28mlist\u001b[39m)\n",
      "File \u001b[1;32mc:\\ProgramData\\anaconda3\\envs\\DEEPLABCUT\\lib\\site-packages\\npe2\\io_utils.py:170\u001b[0m, in \u001b[0;36m_read\u001b[1;34m(paths, stack, plugin_name, return_reader, _pm)\u001b[0m\n\u001b[0;32m    165\u001b[0m     read_func \u001b[38;5;241m=\u001b[39m rdr\u001b[38;5;241m.\u001b[39mexec(\n\u001b[0;32m    166\u001b[0m         kwargs\u001b[38;5;241m=\u001b[39m{\u001b[38;5;124m\"\u001b[39m\u001b[38;5;124mpath\u001b[39m\u001b[38;5;124m\"\u001b[39m: paths, \u001b[38;5;124m\"\u001b[39m\u001b[38;5;124mstack\u001b[39m\u001b[38;5;124m\"\u001b[39m: stack, \u001b[38;5;124m\"\u001b[39m\u001b[38;5;124m_registry\u001b[39m\u001b[38;5;124m\"\u001b[39m: _pm\u001b[38;5;241m.\u001b[39mcommands}\n\u001b[0;32m    167\u001b[0m     )\n\u001b[0;32m    168\u001b[0m     \u001b[38;5;28;01mif\u001b[39;00m read_func \u001b[38;5;129;01mis\u001b[39;00m \u001b[38;5;129;01mnot\u001b[39;00m \u001b[38;5;28;01mNone\u001b[39;00m:\n\u001b[0;32m    169\u001b[0m         \u001b[38;5;66;03m# if the reader function raises an exception here, we don't try to catch it\u001b[39;00m\n\u001b[1;32m--> 170\u001b[0m         \u001b[38;5;28;01mif\u001b[39;00m layer_data \u001b[38;5;241m:=\u001b[39m \u001b[43mread_func\u001b[49m\u001b[43m(\u001b[49m\u001b[43mpaths\u001b[49m\u001b[43m,\u001b[49m\u001b[43m \u001b[49m\u001b[43mstack\u001b[49m\u001b[38;5;241;43m=\u001b[39;49m\u001b[43mstack\u001b[49m\u001b[43m)\u001b[49m:\n\u001b[0;32m    171\u001b[0m             \u001b[38;5;28;01mreturn\u001b[39;00m (layer_data, rdr) \u001b[38;5;28;01mif\u001b[39;00m return_reader \u001b[38;5;28;01melse\u001b[39;00m layer_data\n\u001b[0;32m    173\u001b[0m \u001b[38;5;28;01mif\u001b[39;00m plugin_name:\n",
      "File \u001b[1;32mc:\\ProgramData\\anaconda3\\envs\\DEEPLABCUT\\lib\\site-packages\\npe2\\manifest\\contributions\\_readers.py:69\u001b[0m, in \u001b[0;36mReaderContribution.exec.<locals>.npe1_compat\u001b[1;34m(paths, stack)\u001b[0m\n\u001b[0;32m     66\u001b[0m \u001b[38;5;129m@wraps\u001b[39m(callable_)\n\u001b[0;32m     67\u001b[0m \u001b[38;5;28;01mdef\u001b[39;00m\u001b[38;5;250m \u001b[39m\u001b[38;5;21mnpe1_compat\u001b[39m(paths, \u001b[38;5;241m*\u001b[39m, stack):\n\u001b[0;32m     68\u001b[0m     path \u001b[38;5;241m=\u001b[39m v2_to_v1(paths, stack)\n\u001b[1;32m---> 69\u001b[0m     \u001b[38;5;28;01mreturn\u001b[39;00m \u001b[43mcallable_\u001b[49m\u001b[43m(\u001b[49m\u001b[43mpath\u001b[49m\u001b[43m)\u001b[49m\n",
      "File \u001b[1;32mc:\\ProgramData\\anaconda3\\envs\\DEEPLABCUT\\lib\\site-packages\\napari_deeplabcut\\_reader.py:297\u001b[0m, in \u001b[0;36mread_video\u001b[1;34m(filename, opencv)\u001b[0m\n\u001b[0;32m    295\u001b[0m \u001b[38;5;28;01mdef\u001b[39;00m\u001b[38;5;250m \u001b[39m\u001b[38;5;21mread_video\u001b[39m(filename: \u001b[38;5;28mstr\u001b[39m, opencv: \u001b[38;5;28mbool\u001b[39m \u001b[38;5;241m=\u001b[39m \u001b[38;5;28;01mTrue\u001b[39;00m):\n\u001b[0;32m    296\u001b[0m     \u001b[38;5;28;01mif\u001b[39;00m opencv:\n\u001b[1;32m--> 297\u001b[0m         stream \u001b[38;5;241m=\u001b[39m \u001b[43mVideo\u001b[49m\u001b[43m(\u001b[49m\u001b[43mfilename\u001b[49m\u001b[43m)\u001b[49m\n\u001b[0;32m    298\u001b[0m         shape \u001b[38;5;241m=\u001b[39m stream\u001b[38;5;241m.\u001b[39mwidth, stream\u001b[38;5;241m.\u001b[39mheight, \u001b[38;5;241m3\u001b[39m\n\u001b[0;32m    300\u001b[0m         \u001b[38;5;28;01mdef\u001b[39;00m\u001b[38;5;250m \u001b[39m\u001b[38;5;21m_read_frame\u001b[39m(ind):\n",
      "File \u001b[1;32mc:\\ProgramData\\anaconda3\\envs\\DEEPLABCUT\\lib\\site-packages\\napari_deeplabcut\\_reader.py:258\u001b[0m, in \u001b[0;36mVideo.__init__\u001b[1;34m(self, video_path)\u001b[0m\n\u001b[0;32m    256\u001b[0m \u001b[38;5;28;01mdef\u001b[39;00m\u001b[38;5;250m \u001b[39m\u001b[38;5;21m__init__\u001b[39m(\u001b[38;5;28mself\u001b[39m, video_path):\n\u001b[0;32m    257\u001b[0m     \u001b[38;5;28;01mif\u001b[39;00m \u001b[38;5;129;01mnot\u001b[39;00m os\u001b[38;5;241m.\u001b[39mpath\u001b[38;5;241m.\u001b[39misfile(video_path):\n\u001b[1;32m--> 258\u001b[0m         \u001b[38;5;28;01mraise\u001b[39;00m \u001b[38;5;167;01mValueError\u001b[39;00m(\u001b[38;5;124mf\u001b[39m\u001b[38;5;124m'\u001b[39m\u001b[38;5;124mVideo path \u001b[39m\u001b[38;5;124m\"\u001b[39m\u001b[38;5;132;01m{\u001b[39;00mvideo_path\u001b[38;5;132;01m}\u001b[39;00m\u001b[38;5;124m\"\u001b[39m\u001b[38;5;124m does not point to a file.\u001b[39m\u001b[38;5;124m'\u001b[39m)\n\u001b[0;32m    260\u001b[0m     \u001b[38;5;28mself\u001b[39m\u001b[38;5;241m.\u001b[39mpath \u001b[38;5;241m=\u001b[39m video_path\n\u001b[0;32m    261\u001b[0m     \u001b[38;5;28mself\u001b[39m\u001b[38;5;241m.\u001b[39mstream \u001b[38;5;241m=\u001b[39m cv2\u001b[38;5;241m.\u001b[39mVideoCapture(video_path)\n",
      "\u001b[1;31mValueError\u001b[0m: Video path \"C:\\Users\\ucsfg\\Desktop\\F_View_V3-Gerrik-2025-06-06\\videos\\2024_07_31_09_51-F_R166_M1_R15_M2_R38shifted.mp4\" does not point to a file."
     ]
    }
   ],
   "source": [
    "Female_Recording_Folders = os.scandir(Bird_Rec_Drive)\n",
    "DLC_ListF=[]\n",
    "DLC_ListM1=[]\n",
    "DLC_ListM2=[]\n",
    "\n",
    "for F_Folder in Female_Recording_Folders:\n",
    "     print(F_Folder.name)\n",
    "     if F_Folder.is_dir() and (F_Folder.name in [\"F_8UWL073\"]):#Set what bird IDs you would like to extract videos from\n",
    "        Recording_Folders=os.scandir(F_Folder.path)#Change to select specific folders.\n",
    "        for Rec_Folder in Recording_Folders:\n",
    "                #\"Set what folders to extract videos from\"\n",
    "            if Rec_Folder.is_dir() and (Rec_Folder.name in [\"2025_05_26_11_50-F_8UWL073_M1_W13_M2_R108\"]) and not (Rec_Folder.name==F_Folder.name+\"-Aggregate_Analysis\"):    \n",
    "                print(Rec_Folder.name)\n",
    "                [Rec_Date,Social_Group]=Rec_Folder.name.split(\"-\")\n",
    "                File_Prefix=Rec_Folder.name\n",
    "                Individual_Files = os.scandir(Rec_Folder)\n",
    "                F_H5=glob.glob(Rec_Folder.path+\"/Analysis/\"+\"*-F.h5\")\n",
    "                M1_H5=glob.glob(Rec_Folder.path+\"/Analysis/\"+\"*-M1.h5\")\n",
    "                M2_H5=glob.glob(Rec_Folder.path+\"/Analysis/\"+\"*-M2.h5\")\n",
    "                Montage_F=glob.glob(Rec_Folder.path+\"/\"+Rec_Folder.name+\"-Shift_Montage_Rez_Aud_10x-F.mp4\")\n",
    "                Montage_M1=glob.glob(Rec_Folder.path+\"/\"+Rec_Folder.name+\"-Shift_Montage_Rez_Aud_10x-M1.mp4\")\n",
    "                Montage_M2=glob.glob(Rec_Folder.path+\"/\"+Rec_Folder.name+\"-Shift_Montage_Rez_Aud_10x-M2.mp4\")\n",
    "                if (([]!=Montage_F) and []==F_H5):\n",
    "                    deeplabcut.add_new_videos(Config_File_F_View, [Montage_F[-1]], copy_videos=True)\n",
    "                    # deeplabcut.extract_frames(\n",
    "                    # Config_File_F_View,\n",
    "                    # mode=\"manual\",\n",
    "                    # algo=\"kmeans\",\n",
    "                    # crop=False,\n",
    "                    # userfeedback=True)\n",
    "                    DLC_ListF.append(Montage_F)\n",
    "                if (([]!=Montage_M1) and []==M1_H5):\n",
    "                    deeplabcut.add_new_videos(Config_File_M1_View, [Montage_M1[-1]], copy_videos=True)\n",
    "                    # deeplabcut.extract_frames(\n",
    "                    # Config_File_M1_View,\n",
    "                    # mode=\"automatic\",\n",
    "                    # algo=\"kmeans\",\n",
    "                    # crop=False,\n",
    "                    # userfeedback=True)\n",
    "                    DLC_ListM1.append(Montage_M1)\n",
    "                if (([]!=Montage_M2) and []==M2_H5):\n",
    "                    deeplabcut.add_new_videos(Config_File_M2_View, [Montage_M2[-1]], copy_videos=True)\n",
    "                    # deeplabcut.extract_frames(\n",
    "                    # Config_File_M2_View,\n",
    "                    # mode=\"automatic\",\n",
    "                    # algo=\"kmeans\",\n",
    "                    # crop=False,\n",
    "                    # userfeedback=True)\n",
    "                    DLC_ListM2.append(Montage_M2)\n"
   ]
  },
  {
   "cell_type": "markdown",
   "metadata": {},
   "source": [
    "## Labeling the new extracted frames\n",
    "Below code block will iter through all the added video datasets, check that they dont have a h5 file, and opens Napari so you can label them."
   ]
  },
  {
   "cell_type": "code",
   "execution_count": null,
   "metadata": {},
   "outputs": [
    {
     "name": "stderr",
     "output_type": "stream",
     "text": [
      "ERROR:in_n_out:_duplicate_layer() missing 1 required positional argument: 'll'\n",
      "Traceback (most recent call last):\n",
      "  File \"c:\\ProgramData\\anaconda3\\envs\\DEEPLABCUT\\lib\\site-packages\\in_n_out\\_store.py\", line 804, in _exec\n",
      "    result = func(**bound.arguments)\n",
      "TypeError: _duplicate_layer() missing 1 required positional argument: 'll'\n",
      "ERROR:in_n_out:Do not have argument for ll: using providers [<function _provide_active_layer_list at 0x000002BA5895E050>]\n"
     ]
    }
   ],
   "source": [
    "Config_Files=[Config_File_F_View,Config_File_M1_View,Config_File_M2_View]\n",
    "DLC_Lists=[DLC_ListF,DLC_ListM1,DLC_ListM2]\n",
    "for I in [0,1,2]: #change to specific view you wish to extract for.\n",
    "    project_path = os.path.dirname(Config_Files[I])\n",
    "    for II in DLC_Lists[I]:\n",
    "        for III in range(0,len(II)):\n",
    "            Frames_Dir = os.path.join(project_path, \"labeled-data\", II[III])\n",
    "            if os.path.exists(Frames_Dir):\n",
    "                deeplabcut.label_frames(\n",
    "                Config_Files[I],\n",
    "                image_folder=Frames_Dir)"
   ]
  },
  {
   "cell_type": "markdown",
   "metadata": {},
   "source": [
    "## Training the model.\n",
    "1. Select the specific model you wish trained, set the max iters,\n",
    "2. The below block will loop three times create new training datasets, that includes the frames you just extracted and labeled, with data splits of 0.8, 0.85, and 0.9, all on shuffle 1, which will be overwritten."
   ]
  },
  {
   "cell_type": "code",
   "execution_count": null,
   "metadata": {},
   "outputs": [],
   "source": [
    "import deeplabcut\n",
    "import os\n",
    "import glob\n",
    "from pathlib import Path\n",
    "import yaml\n",
    "\n",
    "shuffle = 3\n",
    "trainset = 90\n",
    "\n",
    "Train_Folder = [os.path.join(Path(Config_Files[0]).parent,\n",
    "    f\"dlc-models/iteration-0/F_View_V3Jun6-trainset{trainset}shuffle{shuffle}/train\"), #F\n",
    "    os.path.join(Path(Config_Files[1]).parent,\n",
    "    f\"dlc-models/iteration-0/F_View_V3Jun6-trainset{trainset}shuffle{shuffle}/train\"), #M1\n",
    "    os.path.join(Path(Config_Files[2]).parent,\n",
    "    f\"dlc-models/iteration-0/F_View_V3Jun6-trainset{trainset}shuffle{shuffle}/train\")] #M2\n",
    "\n",
    "def update_init_weights(pose_cfg_path,index):\n",
    "    snapshot_files = glob.glob(os.path.join(Train_Folder, \"snapshot-*.index\"))\n",
    "    if not snapshot_files:\n",
    "        raise FileNotFoundError(\"No snapshots found in train folder.\")\n",
    "    latest_snapshot = max(snapshot_files, key=lambda f: int(Path(f).stem.split(\"-\")[1]))\n",
    "    latest_snapshot_path = latest_snapshot.replace(\".index\", \"\").replace(\"\\\\\", \"/\")\n",
    "\n",
    "    with open(pose_cfg_path, \"r\") as f:\n",
    "        pose_cfg = yaml.safe_load(f)\n",
    "    pose_cfg[\"init_weights\"] = latest_snapshot_path\n",
    "\n",
    "    with open(pose_cfg_path, \"w\") as f:\n",
    "        yaml.dump(pose_cfg, f)\n",
    "    print(f\"Updated init_weights to: {latest_snapshot_path}\")\n",
    "\n",
    "for I in [0,1,2]: #change to specific view you wish to train.\n",
    "    for II in [1,2,3]:\n",
    "        deeplabcut.create_training_dataset(Config_Files[I], net_type=\"resnet_101\", augmenter_type=\"imgaug\",Shuffles=[3],engine=\"Tensorflow\")\n",
    "        update_init_weights(Config_Files[I])\n",
    "        deeplabcut.train_network(Config_Files[I],shuffle=3,max_snapshots_to_keep=3,displayiters=50,saveiters=5000,maxiters=50000,allow_growth=True)"
   ]
  },
  {
   "cell_type": "markdown",
   "metadata": {},
   "source": [
    "## Test the model\n",
    "Select a 10x video that you did not train the DLC model on, then have it analyzed and labeled.\n",
    "Labeled video will be next to original."
   ]
  },
  {
   "cell_type": "code",
   "execution_count": null,
   "metadata": {},
   "outputs": [],
   "source": [
    "Video_Location=\"\" #put full path here.\n",
    "I=0 #Select view\n",
    "Video_Folder=Path(Video_Location).parent\n",
    "deeplabcut.analyze_videos(Config_Files[I],videos=[\"Your video here.\"],videotype=\"mp4\",destfolder=Video_Folder)"
   ]
  }
 ],
 "metadata": {
  "kernelspec": {
   "display_name": "DEEPLABCUT",
   "language": "python",
   "name": "python3"
  },
  "language_info": {
   "codemirror_mode": {
    "name": "ipython",
    "version": 3
   },
   "file_extension": ".py",
   "mimetype": "text/x-python",
   "name": "python",
   "nbconvert_exporter": "python",
   "pygments_lexer": "ipython3",
   "version": "3.10.18"
  }
 },
 "nbformat": 4,
 "nbformat_minor": 2
}
